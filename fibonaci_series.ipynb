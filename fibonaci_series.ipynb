{
 "cells": [
  {
   "cell_type": "code",
   "execution_count": 1,
   "metadata": {},
   "outputs": [],
   "source": [
    "# Fibonacci Sequence\n",
    "#0 , 1 , 1, 2,3,5,8,11\n",
    "\n"
   ]
  },
  {
   "cell_type": "code",
   "execution_count": 26,
   "metadata": {},
   "outputs": [
    {
     "data": {
      "text/plain": [
       "5"
      ]
     },
     "execution_count": 26,
     "metadata": {},
     "output_type": "execute_result"
    }
   ],
   "source": [
    "def solOne(n:int):\n",
    "    if  n ==0: return 0\n",
    "    if n==1 or n==2: return 1 \n",
    "    \n",
    "    fibList = [None] * (n+1) \n",
    "    \n",
    "    fibList[0] = 0\n",
    "    fibList [1] = 1\n",
    "    fibList [2] = 1 \n",
    "    \n",
    "    \n",
    "    for i in range(3,n+1):\n",
    "        fibList[i] = fibList[i-1] + fibList[i-2]\n",
    "        \n",
    "    return fibList[n]\n",
    "\n",
    "\n",
    "# SpaceComplexity --> O(n)\n",
    "# Time Complexity --> O(n)\n",
    "\n",
    "solOne(5)\n"
   ]
  },
  {
   "cell_type": "code",
   "execution_count": 33,
   "metadata": {},
   "outputs": [],
   "source": [
    "def solTwo(n:int):\n",
    "    if  n ==0: return 0\n",
    "    if n==1 or n==2: return 1 \n",
    "    \n",
    "    first = 1\n",
    "    second = 1\n",
    "    for i in range(3,n+1):\n",
    "        third = first + second\n",
    "        first = second\n",
    "        second = third\n",
    "        \n",
    "    return third\n",
    "    "
   ]
  },
  {
   "cell_type": "code",
   "execution_count": 34,
   "metadata": {},
   "outputs": [
    {
     "data": {
      "text/plain": [
       "5"
      ]
     },
     "execution_count": 34,
     "metadata": {},
     "output_type": "execute_result"
    }
   ],
   "source": [
    "solTwo(5\n",
    "       )"
   ]
  },
  {
   "cell_type": "code",
   "execution_count": null,
   "metadata": {},
   "outputs": [],
   "source": []
  }
 ],
 "metadata": {
  "kernelspec": {
   "display_name": "LuminEye",
   "language": "python",
   "name": "python3"
  },
  "language_info": {
   "codemirror_mode": {
    "name": "ipython",
    "version": 3
   },
   "file_extension": ".py",
   "mimetype": "text/x-python",
   "name": "python",
   "nbconvert_exporter": "python",
   "pygments_lexer": "ipython3",
   "version": "3.10.6"
  },
  "orig_nbformat": 4
 },
 "nbformat": 4,
 "nbformat_minor": 2
}
