{
 "cells": [
  {
   "cell_type": "code",
   "execution_count": 8,
   "metadata": {},
   "outputs": [],
   "source": [
    "roman_int = {\"I\":        1,\n",
    "             \"V\":        5,\n",
    "             \"X\":         10,\n",
    "             \"L\":          50,\n",
    "             \"C\":           100,\n",
    "             \"D\":            500,\n",
    "             \"M\":             1000}\n"
   ]
  },
  {
   "cell_type": "code",
   "execution_count": 9,
   "metadata": {},
   "outputs": [],
   "source": [
    "# Input: s = \"MCMXCIV\"\n",
    "# Output: 1994\n",
    "# Explanation: M = 1000, CM = 900, XC = 90 and IV = 4.\n"
   ]
  },
  {
   "cell_type": "code",
   "execution_count": 140,
   "metadata": {},
   "outputs": [],
   "source": [
    "s = \"MCMXCIV\""
   ]
  },
  {
   "cell_type": "code",
   "execution_count": 141,
   "metadata": {},
   "outputs": [],
   "source": [
    "# I can be placed before V (5) and X (10) to make 4 and 9.\n",
    "# X can be placed before L (50) and C (100) to make 40 and 90.\n",
    "# C can be placed before D (500) and M (1000) to make 400 and 900.\n"
   ]
  },
  {
   "cell_type": "code",
   "execution_count": 161,
   "metadata": {},
   "outputs": [],
   "source": [
    "total = 0\n",
    "for idx in range(len(s)):\n",
    "    \n",
    "    if idx+1 < len(s) and roman_int[s[idx]] < roman_int[s[idx+1]]:\n",
    "        total -= roman_int[s[idx]]\n",
    "        \n",
    "    else:\n",
    "        total += roman_int[s[idx]]\n",
    "        \n",
    "        \n",
    "total = total + roman_int[s[-1]]"
   ]
  },
  {
   "cell_type": "code",
   "execution_count": 162,
   "metadata": {},
   "outputs": [
    {
     "data": {
      "text/plain": [
       "1999"
      ]
     },
     "execution_count": 162,
     "metadata": {},
     "output_type": "execute_result"
    }
   ],
   "source": [
    "total"
   ]
  },
  {
   "cell_type": "code",
   "execution_count": 148,
   "metadata": {},
   "outputs": [
    {
     "name": "stdout",
     "output_type": "stream",
     "text": [
      "C M\n",
      "I V\n"
     ]
    }
   ],
   "source": [
    "# total_integers = []\n",
    "# total_str = []\n",
    "# value = 0\n",
    "\n",
    "# for i in range(len(s)):\n",
    "\n",
    "#     # print(len(s)) # 5\n",
    "#     if i+1 != len(s) and (s[i] == \"I\" and s[i+1] in [\"V\", \"X\"]) or (s[i] == \"X\" and s[i+1] in [\"L\", \"C\"]) or (s[i] == \"C\" and s[i+1] in [\"D\", \"M\"]):\n",
    "\n",
    "#         value = roman_int[s[i+1]] - roman_int[s[i]]\n",
    "\n",
    "#         total_integers.append(value)\n",
    "\n",
    "#         total_str.append(\"\".join([s[i], s[i+1]]))\n",
    "\n",
    "#     elif i-1 >= 0 and (s[i-1] in [\"I\", \"X\", \"C\"] and  s[i] not in [\"I\", \"X\", \"C\"]):\n",
    "        \n",
    "        \n",
    "#         print(s[i-1],s[i])\n",
    "\n",
    "#         pass\n",
    "\n",
    "#     else:\n",
    "#         value = roman_int[s[i]]\n",
    "#         total_integers.append(value)\n"
   ]
  },
  {
   "cell_type": "code",
   "execution_count": 146,
   "metadata": {},
   "outputs": [
    {
     "data": {
      "text/plain": [
       "[1000, 900, 90, 100, 4]"
      ]
     },
     "execution_count": 146,
     "metadata": {},
     "output_type": "execute_result"
    }
   ],
   "source": [
    "total_integers\n"
   ]
  },
  {
   "cell_type": "code",
   "execution_count": 144,
   "metadata": {},
   "outputs": [
    {
     "data": {
      "text/plain": [
       "['CM', 'XC', 'IV']"
      ]
     },
     "execution_count": 144,
     "metadata": {},
     "output_type": "execute_result"
    }
   ],
   "source": [
    "total_str\n"
   ]
  },
  {
   "cell_type": "code",
   "execution_count": 130,
   "metadata": {},
   "outputs": [
    {
     "data": {
      "text/plain": [
       "False"
      ]
     },
     "execution_count": 130,
     "metadata": {},
     "output_type": "execute_result"
    }
   ],
   "source": [
    "\n",
    "s[1] in [\"V\"]\n"
   ]
  },
  {
   "cell_type": "code",
   "execution_count": null,
   "metadata": {},
   "outputs": [],
   "source": []
  }
 ],
 "metadata": {
  "kernelspec": {
   "display_name": "LuminEye",
   "language": "python",
   "name": "python3"
  },
  "language_info": {
   "codemirror_mode": {
    "name": "ipython",
    "version": 3
   },
   "file_extension": ".py",
   "mimetype": "text/x-python",
   "name": "python",
   "nbconvert_exporter": "python",
   "pygments_lexer": "ipython3",
   "version": "3.10.6"
  },
  "orig_nbformat": 4
 },
 "nbformat": 4,
 "nbformat_minor": 2
}
