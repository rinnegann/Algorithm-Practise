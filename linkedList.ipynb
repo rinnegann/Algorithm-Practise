{
 "cells": [
  {
   "cell_type": "code",
   "execution_count": 1,
   "metadata": {},
   "outputs": [],
   "source": [
    "class Node:\n",
    "    def __init__(self, value):\n",
    "        self.value = value\n",
    "        self.next = None\n",
    "\n",
    "\n",
    "class LinkedList:\n",
    "\n",
    "    def __init__(self):\n",
    "        self.head = None\n",
    "\n",
    "    def addLinkList(self, value):\n",
    "\n",
    "        if self.head is None:\n",
    "            self.head = Node(value)\n",
    "\n",
    "        else:\n",
    "            n = self.head\n",
    "\n",
    "            while n.next is not None:\n",
    "\n",
    "                n = n.next\n",
    "\n",
    "            n.next = Node(value)\n",
    "\n",
    "    def printLinkedList(self):\n",
    "        if self.head is None:\n",
    "            print(\"This Linked List is Empty\")\n",
    "\n",
    "        else:\n",
    "            n = self.head\n",
    "\n",
    "            while n is not None:  # 1 --> 2 --> 3--> None\n",
    "                print(n.value)\n",
    "                n = n.next\n"
   ]
  },
  {
   "cell_type": "code",
   "execution_count": 102,
   "metadata": {},
   "outputs": [],
   "source": [
    "L1 = LinkedList()"
   ]
  },
  {
   "cell_type": "code",
   "execution_count": 103,
   "metadata": {},
   "outputs": [],
   "source": [
    "#  Append the values\n",
    "L1.addLinkList(1)\n",
    "L1.addLinkList(2)\n",
    "L1.addLinkList(3)"
   ]
  },
  {
   "cell_type": "code",
   "execution_count": 104,
   "metadata": {},
   "outputs": [
    {
     "name": "stdout",
     "output_type": "stream",
     "text": [
      "1\n",
      "2\n",
      "3\n"
     ]
    }
   ],
   "source": [
    "# Print the list\n",
    "L1.printLinkedList()"
   ]
  },
  {
   "cell_type": "code",
   "execution_count": null,
   "metadata": {},
   "outputs": [],
   "source": []
  },
  {
   "cell_type": "code",
   "execution_count": 89,
   "metadata": {},
   "outputs": [
    {
     "name": "stdout",
     "output_type": "stream",
     "text": [
      "1\n",
      "2\n",
      "3\n",
      "1\n",
      "2\n",
      "3\n"
     ]
    }
   ],
   "source": []
  },
  {
   "cell_type": "code",
   "execution_count": null,
   "metadata": {},
   "outputs": [],
   "source": []
  },
  {
   "cell_type": "code",
   "execution_count": null,
   "metadata": {},
   "outputs": [],
   "source": []
  }
 ],
 "metadata": {
  "kernelspec": {
   "display_name": "LuminEye",
   "language": "python",
   "name": "python3"
  },
  "language_info": {
   "codemirror_mode": {
    "name": "ipython",
    "version": 3
   },
   "file_extension": ".py",
   "mimetype": "text/x-python",
   "name": "python",
   "nbconvert_exporter": "python",
   "pygments_lexer": "ipython3",
   "version": "3.10.6"
  },
  "orig_nbformat": 4
 },
 "nbformat": 4,
 "nbformat_minor": 2
}
