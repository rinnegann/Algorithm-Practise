{
 "cells": [
  {
   "cell_type": "code",
   "execution_count": 1,
   "metadata": {},
   "outputs": [],
   "source": [
    "class Node:\n",
    "    def __init__(self,value):\n",
    "        self.value = value\n",
    "        self.next = None\n",
    "        \n",
    "        \n",
    "    "
   ]
  },
  {
   "cell_type": "code",
   "execution_count": 53,
   "metadata": {},
   "outputs": [],
   "source": [
    "class LinkedList:\n",
    "    \n",
    "    def __init__(self):\n",
    "        self.head = None\n",
    "        \n",
    "    def addLinkList(self,value):\n",
    "        \n",
    "        if self.head is None:\n",
    "            self.head = Node(value)\n",
    "            \n",
    "        else:\n",
    "            n = self.head\n",
    "            \n",
    "            while n.next is None:\n",
    "                \n",
    "                print(n.value)\n",
    "                n = n.next\n",
    "            \n",
    "            \n",
    "                \n",
    "            n.next= Node(value)\n",
    "            \n",
    "    def printLinkedList(self):\n",
    "        if self.head is None:\n",
    "            print(\"This Linked List is Empty\")\n",
    "            \n",
    "        else:\n",
    "            n = self.head\n",
    "            \n",
    "            while n.next is not None:\n",
    "                print(f\"{n.value}\")\n",
    "                n = n.next\n",
    "                "
   ]
  },
  {
   "cell_type": "code",
   "execution_count": 54,
   "metadata": {},
   "outputs": [],
   "source": [
    "L1 = LinkedList()"
   ]
  },
  {
   "cell_type": "code",
   "execution_count": 55,
   "metadata": {},
   "outputs": [],
   "source": [
    "L1.addLinkList(1)"
   ]
  },
  {
   "cell_type": "code",
   "execution_count": 56,
   "metadata": {},
   "outputs": [
    {
     "name": "stdout",
     "output_type": "stream",
     "text": [
      "1\n"
     ]
    },
    {
     "ename": "AttributeError",
     "evalue": "'NoneType' object has no attribute 'next'",
     "output_type": "error",
     "traceback": [
      "\u001b[0;31m---------------------------------------------------------------------------\u001b[0m",
      "\u001b[0;31mAttributeError\u001b[0m                            Traceback (most recent call last)",
      "\u001b[1;32m/home/nipun/Documents/Algorithm-Practise/linkedList.ipynb Cell 5\u001b[0m in \u001b[0;36m1\n\u001b[0;32m----> <a href='vscode-notebook-cell:/home/nipun/Documents/Algorithm-Practise/linkedList.ipynb#W4sZmlsZQ%3D%3D?line=0'>1</a>\u001b[0m L1\u001b[39m.\u001b[39;49maddLinkList(\u001b[39m2\u001b[39;49m)\n",
      "\u001b[1;32m/home/nipun/Documents/Algorithm-Practise/linkedList.ipynb Cell 5\u001b[0m in \u001b[0;36m1\n\u001b[1;32m     <a href='vscode-notebook-cell:/home/nipun/Documents/Algorithm-Practise/linkedList.ipynb#W4sZmlsZQ%3D%3D?line=10'>11</a>\u001b[0m \u001b[39melse\u001b[39;00m:\n\u001b[1;32m     <a href='vscode-notebook-cell:/home/nipun/Documents/Algorithm-Practise/linkedList.ipynb#W4sZmlsZQ%3D%3D?line=11'>12</a>\u001b[0m     n \u001b[39m=\u001b[39m \u001b[39mself\u001b[39m\u001b[39m.\u001b[39mhead\n\u001b[0;32m---> <a href='vscode-notebook-cell:/home/nipun/Documents/Algorithm-Practise/linkedList.ipynb#W4sZmlsZQ%3D%3D?line=13'>14</a>\u001b[0m     \u001b[39mwhile\u001b[39;00m n\u001b[39m.\u001b[39;49mnext \u001b[39mis\u001b[39;00m \u001b[39mNone\u001b[39;00m:\n\u001b[1;32m     <a href='vscode-notebook-cell:/home/nipun/Documents/Algorithm-Practise/linkedList.ipynb#W4sZmlsZQ%3D%3D?line=15'>16</a>\u001b[0m         \u001b[39mprint\u001b[39m(n\u001b[39m.\u001b[39mvalue)\n\u001b[1;32m     <a href='vscode-notebook-cell:/home/nipun/Documents/Algorithm-Practise/linkedList.ipynb#W4sZmlsZQ%3D%3D?line=16'>17</a>\u001b[0m         n \u001b[39m=\u001b[39m n\u001b[39m.\u001b[39mnext\n",
      "\u001b[0;31mAttributeError\u001b[0m: 'NoneType' object has no attribute 'next'"
     ]
    }
   ],
   "source": [
    "L1.addLinkList(2)"
   ]
  },
  {
   "cell_type": "code",
   "execution_count": 52,
   "metadata": {},
   "outputs": [
    {
     "name": "stdout",
     "output_type": "stream",
     "text": [
      "1\n"
     ]
    }
   ],
   "source": [
    "L1.addLinkList(2)"
   ]
  },
  {
   "cell_type": "code",
   "execution_count": 43,
   "metadata": {},
   "outputs": [],
   "source": [
    "L1.printLinkedList()"
   ]
  },
  {
   "cell_type": "code",
   "execution_count": null,
   "metadata": {},
   "outputs": [],
   "source": []
  },
  {
   "cell_type": "code",
   "execution_count": null,
   "metadata": {},
   "outputs": [],
   "source": []
  }
 ],
 "metadata": {
  "kernelspec": {
   "display_name": "LuminEye",
   "language": "python",
   "name": "python3"
  },
  "language_info": {
   "codemirror_mode": {
    "name": "ipython",
    "version": 3
   },
   "file_extension": ".py",
   "mimetype": "text/x-python",
   "name": "python",
   "nbconvert_exporter": "python",
   "pygments_lexer": "ipython3",
   "version": "3.10.6"
  },
  "orig_nbformat": 4
 },
 "nbformat": 4,
 "nbformat_minor": 2
}
