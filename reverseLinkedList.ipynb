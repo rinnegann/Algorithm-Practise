{
 "cells": [
  {
   "cell_type": "code",
   "execution_count": 8,
   "metadata": {},
   "outputs": [],
   "source": [
    "class Node:\n",
    "    def __init__(self, value):\n",
    "        self.value = value\n",
    "        self.next = None\n",
    "\n",
    "\n",
    "class LinkedList:\n",
    "\n",
    "    def __init__(self):\n",
    "        self.head = None\n",
    "\n",
    "    def addNodes(self, value):\n",
    "\n",
    "        if self.head is None:\n",
    "            self.head = Node(value)\n",
    "\n",
    "        else:\n",
    "            n = self.head\n",
    "\n",
    "            while n.next is not None:\n",
    "\n",
    "                n = n.next\n",
    "\n",
    "            n.next = Node(value)\n",
    "\n",
    "    def printLinkedList(self):\n",
    "        if self.head is None:\n",
    "            print(\"This Linked List is Empty\")\n",
    "\n",
    "        else:\n",
    "            n = self.head\n",
    "\n",
    "            while n is not None:  # 1 --> 2 --> 3--> None\n",
    "                print(n.value)\n",
    "                n = n.next\n",
    "   "
   ]
  },
  {
   "cell_type": "code",
   "execution_count": 9,
   "metadata": {},
   "outputs": [],
   "source": [
    "L1 = LinkedList()"
   ]
  },
  {
   "cell_type": "code",
   "execution_count": 10,
   "metadata": {},
   "outputs": [],
   "source": [
    "L1.addNodes(2)\n",
    "L1.addNodes(4)\n",
    "L1.addNodes(3)"
   ]
  },
  {
   "cell_type": "code",
   "execution_count": 11,
   "metadata": {},
   "outputs": [
    {
     "name": "stdout",
     "output_type": "stream",
     "text": [
      "2\n",
      "4\n",
      "3\n"
     ]
    }
   ],
   "source": [
    "L1.printLinkedList()\n"
   ]
  },
  {
   "cell_type": "code",
   "execution_count": 15,
   "metadata": {},
   "outputs": [],
   "source": [
    "def ReverseLinkedList(linkedList):\n",
    "    \n",
    "\n",
    "    prev = None\n",
    "\n",
    "    n = linkedList.head\n",
    "\n",
    "    while n is not None:\n",
    "        next_node = n.next\n",
    "        n.next = prev\n",
    "        prev = n\n",
    "        n = next_node\n",
    "\n",
    "    linkedList.head = prev\n",
    "\n",
    "    curr = linkedList.head\n",
    "\n",
    "    while curr is not None:\n",
    "        print(curr.value)\n",
    "        curr = curr.next\n"
   ]
  },
  {
   "cell_type": "code",
   "execution_count": 16,
   "metadata": {},
   "outputs": [
    {
     "name": "stdout",
     "output_type": "stream",
     "text": [
      "3\n",
      "4\n",
      "2\n"
     ]
    }
   ],
   "source": [
    "ReverseLinkedList(L1)"
   ]
  },
  {
   "cell_type": "code",
   "execution_count": null,
   "metadata": {},
   "outputs": [],
   "source": []
  }
 ],
 "metadata": {
  "kernelspec": {
   "display_name": "LuminEye",
   "language": "python",
   "name": "python3"
  },
  "language_info": {
   "codemirror_mode": {
    "name": "ipython",
    "version": 3
   },
   "file_extension": ".py",
   "mimetype": "text/x-python",
   "name": "python",
   "nbconvert_exporter": "python",
   "pygments_lexer": "ipython3",
   "version": "3.10.6"
  },
  "orig_nbformat": 4
 },
 "nbformat": 4,
 "nbformat_minor": 2
}
